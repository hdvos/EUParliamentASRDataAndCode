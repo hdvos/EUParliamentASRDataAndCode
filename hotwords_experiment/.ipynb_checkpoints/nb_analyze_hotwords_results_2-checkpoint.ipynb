{
 "cells": [
  {
   "cell_type": "code",
   "execution_count": 4,
   "metadata": {},
   "outputs": [],
   "source": [
    "import os\n",
    "import pandas as pd\n",
    "import numpy as np\n",
    "root_folder = '/home/hugo/MEGA/work/ASR/EUParliamentASR/hotwords_experiment/processed_data'\n"
   ]
  },
  {
   "cell_type": "code",
   "execution_count": 5,
   "metadata": {},
   "outputs": [],
   "source": [
    "\n",
    "def get_hotwords_weight(filename:str) -> int:\n",
    "    a = os.path.splitext(filename)[0]\n",
    "    a = a.split('_')[1]\n",
    "    a = int(a)\n",
    "    return a"
   ]
  },
  {
   "cell_type": "code",
   "execution_count": 6,
   "metadata": {},
   "outputs": [],
   "source": [
    "def get_motherfile_id(filename):\n",
    "    basename = os.path.basename(filename)\n",
    "    barename = os.path.splitext(basename)[0]\n",
    "    motherfile_id = barename.split('_')[-1]\n",
    "\n",
    "    return motherfile_id"
   ]
  },
  {
   "cell_type": "code",
   "execution_count": null,
   "metadata": {},
   "outputs": [],
   "source": [
    "\n",
    "    "
   ]
  },
  {
   "cell_type": "code",
   "execution_count": 7,
   "metadata": {},
   "outputs": [
    {
     "name": "stdout",
     "output_type": "stream",
     "text": [
      "['experiment_0_processed.csv', 'experiment_1_processed.csv', 'experiment_2_processed.csv', 'experiment_3_processed.csv', 'experiment_4_processed.csv', 'experiment_5_processed.csv', 'experiment_6_processed.csv', 'experiment_7_processed.csv', 'experiment_8_processed.csv', 'experiment_9_processed.csv', 'experiment_10_processed.csv']\n"
     ]
    }
   ],
   "source": [
    "\n",
    "for root, folders,files in os.walk(root_folder):\n",
    "\n",
    "    # print(files)\n",
    "    files = sorted(files, key=lambda x:get_hotwords_weight(x))\n",
    "    print(files)\n",
    "    dfs = []\n",
    "    \n",
    "    \n",
    "    pivot_tables = []\n",
    "    \n",
    "    for i, file in enumerate(files):\n",
    "        fullpath = os.path.join(root, file)\n",
    "        df = pd.read_csv(fullpath, sep='\\t', index_col=0)\n",
    "        df=df.rename(columns = {'identifier':'meeting identifier'})\n",
    "        df['F1'] = 2 * df.precision * df.recall/ (df.precision + df.recall)\n",
    "        pivot_table = pd.pivot_table(df,values= ['recall', 'unrecognized_words', 'false_positive_hotwords', 'precision','WER'], index='meeting identifier', aggfunc=np.mean)\n",
    "\n",
    "        df = df.dropna(subset = ['hotwords'])\n",
    "        dfs.append(df)\n",
    "\n",
    "        pivot_table\n",
    "        pivot_tables.append(pivot_table)"
   ]
  },
  {
   "cell_type": "code",
   "execution_count": 8,
   "metadata": {},
   "outputs": [
    {
     "data": {
      "text/html": [
       "<div>\n",
       "<style scoped>\n",
       "    .dataframe tbody tr th:only-of-type {\n",
       "        vertical-align: middle;\n",
       "    }\n",
       "\n",
       "    .dataframe tbody tr th {\n",
       "        vertical-align: top;\n",
       "    }\n",
       "\n",
       "    .dataframe thead th {\n",
       "        text-align: right;\n",
       "    }\n",
       "</style>\n",
       "<table border=\"1\" class=\"dataframe\">\n",
       "  <thead>\n",
       "    <tr style=\"text-align: right;\">\n",
       "      <th></th>\n",
       "      <th>WER</th>\n",
       "      <th>false_positive_hotwords</th>\n",
       "      <th>precision</th>\n",
       "      <th>recall</th>\n",
       "    </tr>\n",
       "    <tr>\n",
       "      <th>meeting identifier</th>\n",
       "      <th></th>\n",
       "      <th></th>\n",
       "      <th></th>\n",
       "      <th></th>\n",
       "    </tr>\n",
       "  </thead>\n",
       "  <tbody>\n",
       "    <tr>\n",
       "      <th>20140701</th>\n",
       "      <td>0.315593</td>\n",
       "      <td>0.0</td>\n",
       "      <td>1.000000</td>\n",
       "      <td>1.000000</td>\n",
       "    </tr>\n",
       "    <tr>\n",
       "      <th>20140714</th>\n",
       "      <td>0.254666</td>\n",
       "      <td>0.0</td>\n",
       "      <td>1.000000</td>\n",
       "      <td>0.533333</td>\n",
       "    </tr>\n",
       "    <tr>\n",
       "      <th>20140723</th>\n",
       "      <td>0.208967</td>\n",
       "      <td>0.1</td>\n",
       "      <td>0.950000</td>\n",
       "      <td>0.950000</td>\n",
       "    </tr>\n",
       "    <tr>\n",
       "      <th>20140904</th>\n",
       "      <td>0.248867</td>\n",
       "      <td>0.2</td>\n",
       "      <td>0.916667</td>\n",
       "      <td>0.916667</td>\n",
       "    </tr>\n",
       "    <tr>\n",
       "      <th>20140915</th>\n",
       "      <td>0.257170</td>\n",
       "      <td>0.2</td>\n",
       "      <td>0.933333</td>\n",
       "      <td>0.966667</td>\n",
       "    </tr>\n",
       "    <tr>\n",
       "      <th>20140925</th>\n",
       "      <td>0.251775</td>\n",
       "      <td>0.5</td>\n",
       "      <td>0.766667</td>\n",
       "      <td>0.741667</td>\n",
       "    </tr>\n",
       "    <tr>\n",
       "      <th>20141016</th>\n",
       "      <td>0.234425</td>\n",
       "      <td>0.3</td>\n",
       "      <td>0.866667</td>\n",
       "      <td>0.950000</td>\n",
       "    </tr>\n",
       "    <tr>\n",
       "      <th>20141106</th>\n",
       "      <td>0.262624</td>\n",
       "      <td>0.1</td>\n",
       "      <td>0.944444</td>\n",
       "      <td>0.900000</td>\n",
       "    </tr>\n",
       "    <tr>\n",
       "      <th>20141110</th>\n",
       "      <td>0.278908</td>\n",
       "      <td>0.2</td>\n",
       "      <td>0.875000</td>\n",
       "      <td>0.800000</td>\n",
       "    </tr>\n",
       "    <tr>\n",
       "      <th>20141120</th>\n",
       "      <td>0.210583</td>\n",
       "      <td>0.3</td>\n",
       "      <td>0.642857</td>\n",
       "      <td>0.446667</td>\n",
       "    </tr>\n",
       "    <tr>\n",
       "      <th>20141211</th>\n",
       "      <td>0.233333</td>\n",
       "      <td>0.0</td>\n",
       "      <td>1.000000</td>\n",
       "      <td>1.000000</td>\n",
       "    </tr>\n",
       "  </tbody>\n",
       "</table>\n",
       "</div>"
      ],
      "text/plain": [
       "                         WER  false_positive_hotwords  precision    recall\n",
       "meeting identifier                                                        \n",
       "20140701            0.315593                      0.0   1.000000  1.000000\n",
       "20140714            0.254666                      0.0   1.000000  0.533333\n",
       "20140723            0.208967                      0.1   0.950000  0.950000\n",
       "20140904            0.248867                      0.2   0.916667  0.916667\n",
       "20140915            0.257170                      0.2   0.933333  0.966667\n",
       "20140925            0.251775                      0.5   0.766667  0.741667\n",
       "20141016            0.234425                      0.3   0.866667  0.950000\n",
       "20141106            0.262624                      0.1   0.944444  0.900000\n",
       "20141110            0.278908                      0.2   0.875000  0.800000\n",
       "20141120            0.210583                      0.3   0.642857  0.446667\n",
       "20141211            0.233333                      0.0   1.000000  1.000000"
      ]
     },
     "execution_count": 8,
     "metadata": {},
     "output_type": "execute_result"
    }
   ],
   "source": [
    "pivot_tables[0]"
   ]
  },
  {
   "cell_type": "code",
   "execution_count": null,
   "metadata": {},
   "outputs": [],
   "source": []
  },
  {
   "cell_type": "code",
   "execution_count": 9,
   "metadata": {},
   "outputs": [],
   "source": [
    "def WER_formatter(wer_value):\n",
    "    wer = wer_value * 100\n",
    "    return f\"{wer:.2f}\"\n",
    "\n",
    "def Pr_Rec_F1_formatter(value):\n",
    "    return f\"{value:.2f}\"[1:]"
   ]
  },
  {
   "cell_type": "code",
   "execution_count": 10,
   "metadata": {},
   "outputs": [],
   "source": [
    "# my_table = pivot_tables[3][['precision', 'recall', 'F1', 'WER']]\n",
    "# my_table = my_table.drop(index = 20141211)"
   ]
  },
  {
   "cell_type": "code",
   "execution_count": 11,
   "metadata": {},
   "outputs": [
    {
     "ename": "NameError",
     "evalue": "name 'my_table' is not defined",
     "output_type": "error",
     "traceback": [
      "\u001b[0;31m---------------------------------------------------------------------------\u001b[0m",
      "\u001b[0;31mNameError\u001b[0m                                 Traceback (most recent call last)",
      "\u001b[0;32m<ipython-input-11-831d0003d578>\u001b[0m in \u001b[0;36m<module>\u001b[0;34m\u001b[0m\n\u001b[1;32m      3\u001b[0m                  \u001b[0;34m'recall'\u001b[0m\u001b[0;34m:\u001b[0m    \u001b[0mPr_Rec_F1_formatter\u001b[0m\u001b[0;34m,\u001b[0m\u001b[0;34m\u001b[0m\u001b[0;34m\u001b[0m\u001b[0m\n\u001b[1;32m      4\u001b[0m                  'F1':        Pr_Rec_F1_formatter}\n\u001b[0;32m----> 5\u001b[0;31m \u001b[0mmy_table\u001b[0m\u001b[0;34m.\u001b[0m\u001b[0mto_latex\u001b[0m\u001b[0;34m(\u001b[0m\u001b[0;34m'table3.txt'\u001b[0m\u001b[0;34m,\u001b[0m \u001b[0mformatters\u001b[0m\u001b[0;34m=\u001b[0m\u001b[0mmy_formatters\u001b[0m\u001b[0;34m)\u001b[0m\u001b[0;34m\u001b[0m\u001b[0;34m\u001b[0m\u001b[0m\n\u001b[0m",
      "\u001b[0;31mNameError\u001b[0m: name 'my_table' is not defined"
     ]
    }
   ],
   "source": [
    "my_formatters = {'WER': WER_formatter,\n",
    "                 'precision': Pr_Rec_F1_formatter,\n",
    "                 'recall':    Pr_Rec_F1_formatter,\n",
    "                 'F1':        Pr_Rec_F1_formatter}\n",
    "my_table.to_latex('table3.txt', formatters=my_formatters)"
   ]
  },
  {
   "cell_type": "code",
   "execution_count": null,
   "metadata": {},
   "outputs": [],
   "source": []
  },
  {
   "cell_type": "code",
   "execution_count": null,
   "metadata": {},
   "outputs": [],
   "source": []
  },
  {
   "cell_type": "code",
   "execution_count": 12,
   "metadata": {},
   "outputs": [
    {
     "data": {
      "text/plain": [
       "26"
      ]
     },
     "execution_count": 12,
     "metadata": {},
     "output_type": "execute_result"
    }
   ],
   "source": [
    "dfs[1].false_positive_hotwords.sum()"
   ]
  },
  {
   "cell_type": "code",
   "execution_count": 13,
   "metadata": {},
   "outputs": [
    {
     "data": {
      "text/plain": [
       "Counter({20140714: 10,\n",
       "         20140723: 10,\n",
       "         20140904: 10,\n",
       "         20140915: 10,\n",
       "         20140925: 10,\n",
       "         20141016: 10,\n",
       "         20141106: 10,\n",
       "         20141110: 10,\n",
       "         20141120: 10,\n",
       "         20141211: 1})"
      ]
     },
     "execution_count": 13,
     "metadata": {},
     "output_type": "execute_result"
    }
   ],
   "source": [
    "from collections import Counter\n",
    "\n",
    "mycounter = Counter()\n",
    "mycounter.update(dfs[1]['meeting identifier'])\n",
    "mycounter"
   ]
  },
  {
   "cell_type": "code",
   "execution_count": null,
   "metadata": {},
   "outputs": [],
   "source": []
  },
  {
   "cell_type": "code",
   "execution_count": null,
   "metadata": {},
   "outputs": [],
   "source": []
  },
  {
   "cell_type": "code",
   "execution_count": 14,
   "metadata": {},
   "outputs": [
    {
     "name": "stdout",
     "output_type": "stream",
     "text": [
      "['experiment_0_processed.csv', 'experiment_1_processed.csv', 'experiment_2_processed.csv', 'experiment_3_processed.csv', 'experiment_4_processed.csv', 'experiment_5_processed.csv', 'experiment_6_processed.csv', 'experiment_7_processed.csv', 'experiment_8_processed.csv', 'experiment_9_processed.csv', 'experiment_10_processed.csv']\n"
     ]
    }
   ],
   "source": [
    "\n",
    "for root, folders,files in os.walk(root_folder):\n",
    "\n",
    "    # print(files)\n",
    "    files = sorted(files, key=lambda x:get_hotwords_weight(x))\n",
    "    print(files)\n",
    "    dfs = []\n",
    "    \n",
    "    \n",
    "    pivot_tables = []\n",
    "    \n",
    "    for i, file in enumerate(files):\n",
    "        fullpath = os.path.join(root, file)\n",
    "        df = pd.read_csv(fullpath, sep='\\t', index_col=0)\n",
    "        df=df.rename(columns = {'identifier':'meeting identifier'})\n",
    "        df['F1'] = 2 * df.precision * df.recall/ (df.precision + df.recall)\n",
    "        \n",
    "        df = df.dropna(subset = ['hotwords'])\n",
    "        dfs.append(df)\n",
    "        "
   ]
  },
  {
   "cell_type": "code",
   "execution_count": 15,
   "metadata": {},
   "outputs": [
    {
     "data": {
      "text/html": [
       "<div>\n",
       "<style scoped>\n",
       "    .dataframe tbody tr th:only-of-type {\n",
       "        vertical-align: middle;\n",
       "    }\n",
       "\n",
       "    .dataframe tbody tr th {\n",
       "        vertical-align: top;\n",
       "    }\n",
       "\n",
       "    .dataframe thead th {\n",
       "        text-align: right;\n",
       "    }\n",
       "</style>\n",
       "<table border=\"1\" class=\"dataframe\">\n",
       "  <thead>\n",
       "    <tr style=\"text-align: right;\">\n",
       "      <th></th>\n",
       "      <th>Sound_file</th>\n",
       "      <th>Length (s)</th>\n",
       "      <th>Transcription</th>\n",
       "      <th>nr_words</th>\n",
       "      <th>words per second</th>\n",
       "      <th>meeting identifier</th>\n",
       "      <th>hotwords</th>\n",
       "      <th>inference</th>\n",
       "      <th>manual_entities</th>\n",
       "      <th>hotwords_in_inference</th>\n",
       "      <th>hotwords_not_in_inference</th>\n",
       "      <th>recall</th>\n",
       "      <th>unrecognized_words</th>\n",
       "      <th>false_positive_hotwords</th>\n",
       "      <th>precision</th>\n",
       "      <th>WER</th>\n",
       "      <th>F1</th>\n",
       "    </tr>\n",
       "  </thead>\n",
       "  <tbody>\n",
       "    <tr>\n",
       "      <th>10</th>\n",
       "      <td>/data/voshpde/pipeLine/evaluation/transcriptio...</td>\n",
       "      <td>30</td>\n",
       "      <td>(…) yes, thank you very much, I am vicky maeij...</td>\n",
       "      <td>72</td>\n",
       "      <td>2.400000</td>\n",
       "      <td>20140714</td>\n",
       "      <td>juri|fundamental|femm|reicherts|ms|chairs|weis...</td>\n",
       "      <td>mr president a vi i a member of the freedom pa...</td>\n",
       "      <td>freedom|party</td>\n",
       "      <td>2</td>\n",
       "      <td>0</td>\n",
       "      <td>1.000000</td>\n",
       "      <td>NaN</td>\n",
       "      <td>0</td>\n",
       "      <td>1.0</td>\n",
       "      <td>0.305556</td>\n",
       "      <td>1.000000</td>\n",
       "    </tr>\n",
       "    <tr>\n",
       "      <th>11</th>\n",
       "      <td>/data/voshpde/pipeLine/evaluation/transcriptio...</td>\n",
       "      <td>17</td>\n",
       "      <td>okay, thank you for putting your objection so ...</td>\n",
       "      <td>32</td>\n",
       "      <td>1.882353</td>\n",
       "      <td>20140714</td>\n",
       "      <td>juri|fundamental|femm|reicherts|ms|chairs|weis...</td>\n",
       "      <td>ok thank you for putting your objection so pol...</td>\n",
       "      <td>slobodan</td>\n",
       "      <td>0</td>\n",
       "      <td>1</td>\n",
       "      <td>0.000000</td>\n",
       "      <td>slobodan</td>\n",
       "      <td>0</td>\n",
       "      <td>NaN</td>\n",
       "      <td>0.375000</td>\n",
       "      <td>NaN</td>\n",
       "    </tr>\n",
       "    <tr>\n",
       "      <th>12</th>\n",
       "      <td>/data/voshpde/pipeLine/evaluation/transcriptio...</td>\n",
       "      <td>20</td>\n",
       "      <td>I would also, I would also like to greet the m...</td>\n",
       "      <td>32</td>\n",
       "      <td>1.600000</td>\n",
       "      <td>20140714</td>\n",
       "      <td>juri|fundamental|femm|reicherts|ms|chairs|weis...</td>\n",
       "      <td>i would also i would also like to agree the me...</td>\n",
       "      <td>libe|martine|juri|reicherts</td>\n",
       "      <td>2</td>\n",
       "      <td>2</td>\n",
       "      <td>0.500000</td>\n",
       "      <td>juri|reicherts</td>\n",
       "      <td>0</td>\n",
       "      <td>1.0</td>\n",
       "      <td>0.343750</td>\n",
       "      <td>0.666667</td>\n",
       "    </tr>\n",
       "    <tr>\n",
       "      <th>13</th>\n",
       "      <td>/data/voshpde/pipeLine/evaluation/transcriptio...</td>\n",
       "      <td>19</td>\n",
       "      <td>I would like to stress that the cooperation be...</td>\n",
       "      <td>33</td>\n",
       "      <td>1.736842</td>\n",
       "      <td>20140714</td>\n",
       "      <td>juri|fundamental|femm|reicherts|ms|chairs|weis...</td>\n",
       "      <td>i would like to stress that the cooperation be...</td>\n",
       "      <td>NaN</td>\n",
       "      <td>1</td>\n",
       "      <td>0</td>\n",
       "      <td>1.000000</td>\n",
       "      <td>NaN</td>\n",
       "      <td>0</td>\n",
       "      <td>1.0</td>\n",
       "      <td>0.090909</td>\n",
       "      <td>1.000000</td>\n",
       "    </tr>\n",
       "    <tr>\n",
       "      <th>14</th>\n",
       "      <td>/data/voshpde/pipeLine/evaluation/transcriptio...</td>\n",
       "      <td>15</td>\n",
       "      <td>that overlap with the field of, of responsibil...</td>\n",
       "      <td>25</td>\n",
       "      <td>1.666667</td>\n",
       "      <td>20140714</td>\n",
       "      <td>juri|fundamental|femm|reicherts|ms|chairs|weis...</td>\n",
       "      <td>that overlap with the field of responsibility ...</td>\n",
       "      <td>juri</td>\n",
       "      <td>0</td>\n",
       "      <td>1</td>\n",
       "      <td>0.000000</td>\n",
       "      <td>juri</td>\n",
       "      <td>0</td>\n",
       "      <td>NaN</td>\n",
       "      <td>0.120000</td>\n",
       "      <td>NaN</td>\n",
       "    </tr>\n",
       "    <tr>\n",
       "      <th>...</th>\n",
       "      <td>...</td>\n",
       "      <td>...</td>\n",
       "      <td>...</td>\n",
       "      <td>...</td>\n",
       "      <td>...</td>\n",
       "      <td>...</td>\n",
       "      <td>...</td>\n",
       "      <td>...</td>\n",
       "      <td>...</td>\n",
       "      <td>...</td>\n",
       "      <td>...</td>\n",
       "      <td>...</td>\n",
       "      <td>...</td>\n",
       "      <td>...</td>\n",
       "      <td>...</td>\n",
       "      <td>...</td>\n",
       "      <td>...</td>\n",
       "    </tr>\n",
       "    <tr>\n",
       "      <th>96</th>\n",
       "      <td>/data/voshpde/pipeLine/evaluation/transcriptio...</td>\n",
       "      <td>25</td>\n",
       "      <td>the commissions commitment to putting an indep...</td>\n",
       "      <td>67</td>\n",
       "      <td>2.680000</td>\n",
       "      <td>20141120</td>\n",
       "      <td>nathalie|paevakorra|pirmininko|bueso|europol|n...</td>\n",
       "      <td>the commissions commitment to putting an indep...</td>\n",
       "      <td>office|junker|public|prosecutors|european</td>\n",
       "      <td>4</td>\n",
       "      <td>1</td>\n",
       "      <td>0.800000</td>\n",
       "      <td>junker</td>\n",
       "      <td>0</td>\n",
       "      <td>1.0</td>\n",
       "      <td>0.179104</td>\n",
       "      <td>0.888889</td>\n",
       "    </tr>\n",
       "    <tr>\n",
       "      <th>97</th>\n",
       "      <td>/data/voshpde/pipeLine/evaluation/transcriptio...</td>\n",
       "      <td>16</td>\n",
       "      <td>It has to be immune from European and national...</td>\n",
       "      <td>38</td>\n",
       "      <td>2.375000</td>\n",
       "      <td>20141120</td>\n",
       "      <td>nathalie|paevakorra|pirmininko|bueso|europol|n...</td>\n",
       "      <td>it has to be immune from european and national...</td>\n",
       "      <td>prosecutors|european|eppo</td>\n",
       "      <td>2</td>\n",
       "      <td>1</td>\n",
       "      <td>0.666667</td>\n",
       "      <td>eppo</td>\n",
       "      <td>0</td>\n",
       "      <td>1.0</td>\n",
       "      <td>0.157895</td>\n",
       "      <td>0.800000</td>\n",
       "    </tr>\n",
       "    <tr>\n",
       "      <th>98</th>\n",
       "      <td>/data/voshpde/pipeLine/evaluation/transcriptio...</td>\n",
       "      <td>22</td>\n",
       "      <td>Therefore, the appointment procedure for them ...</td>\n",
       "      <td>59</td>\n",
       "      <td>2.681818</td>\n",
       "      <td>20141120</td>\n",
       "      <td>nathalie|paevakorra|pirmininko|bueso|europol|n...</td>\n",
       "      <td>therefore the appointment procedure for them m...</td>\n",
       "      <td>parliament|european</td>\n",
       "      <td>2</td>\n",
       "      <td>0</td>\n",
       "      <td>1.000000</td>\n",
       "      <td>NaN</td>\n",
       "      <td>0</td>\n",
       "      <td>1.0</td>\n",
       "      <td>0.135593</td>\n",
       "      <td>1.000000</td>\n",
       "    </tr>\n",
       "    <tr>\n",
       "      <th>99</th>\n",
       "      <td>/data/voshpde/pipeLine/evaluation/transcriptio...</td>\n",
       "      <td>17</td>\n",
       "      <td>It is important to recall that at the local le...</td>\n",
       "      <td>56</td>\n",
       "      <td>3.294118</td>\n",
       "      <td>20141120</td>\n",
       "      <td>nathalie|paevakorra|pirmininko|bueso|europol|n...</td>\n",
       "      <td>it is important to recall that at the local le...</td>\n",
       "      <td>eppo</td>\n",
       "      <td>0</td>\n",
       "      <td>1</td>\n",
       "      <td>0.000000</td>\n",
       "      <td>eppo</td>\n",
       "      <td>0</td>\n",
       "      <td>NaN</td>\n",
       "      <td>0.181818</td>\n",
       "      <td>NaN</td>\n",
       "    </tr>\n",
       "    <tr>\n",
       "      <th>100</th>\n",
       "      <td>/data/voshpde/pipeLine/evaluation/transcriptio...</td>\n",
       "      <td>29</td>\n",
       "      <td>now, with regard to ehm ehm ehm ehm, protectio...</td>\n",
       "      <td>60</td>\n",
       "      <td>2.068966</td>\n",
       "      <td>20141211</td>\n",
       "      <td>paevakorra|ska|carlos|leichtfried|europol|pirm...</td>\n",
       "      <td>with regard to protection of private data the ...</td>\n",
       "      <td>united|europe|states|us|union|european</td>\n",
       "      <td>6</td>\n",
       "      <td>0</td>\n",
       "      <td>1.000000</td>\n",
       "      <td>NaN</td>\n",
       "      <td>0</td>\n",
       "      <td>1.0</td>\n",
       "      <td>0.233333</td>\n",
       "      <td>1.000000</td>\n",
       "    </tr>\n",
       "  </tbody>\n",
       "</table>\n",
       "<p>91 rows × 17 columns</p>\n",
       "</div>"
      ],
      "text/plain": [
       "                                            Sound_file  Length (s)  \\\n",
       "10   /data/voshpde/pipeLine/evaluation/transcriptio...          30   \n",
       "11   /data/voshpde/pipeLine/evaluation/transcriptio...          17   \n",
       "12   /data/voshpde/pipeLine/evaluation/transcriptio...          20   \n",
       "13   /data/voshpde/pipeLine/evaluation/transcriptio...          19   \n",
       "14   /data/voshpde/pipeLine/evaluation/transcriptio...          15   \n",
       "..                                                 ...         ...   \n",
       "96   /data/voshpde/pipeLine/evaluation/transcriptio...          25   \n",
       "97   /data/voshpde/pipeLine/evaluation/transcriptio...          16   \n",
       "98   /data/voshpde/pipeLine/evaluation/transcriptio...          22   \n",
       "99   /data/voshpde/pipeLine/evaluation/transcriptio...          17   \n",
       "100  /data/voshpde/pipeLine/evaluation/transcriptio...          29   \n",
       "\n",
       "                                         Transcription  nr_words  \\\n",
       "10   (…) yes, thank you very much, I am vicky maeij...        72   \n",
       "11   okay, thank you for putting your objection so ...        32   \n",
       "12   I would also, I would also like to greet the m...        32   \n",
       "13   I would like to stress that the cooperation be...        33   \n",
       "14   that overlap with the field of, of responsibil...        25   \n",
       "..                                                 ...       ...   \n",
       "96   the commissions commitment to putting an indep...        67   \n",
       "97   It has to be immune from European and national...        38   \n",
       "98   Therefore, the appointment procedure for them ...        59   \n",
       "99   It is important to recall that at the local le...        56   \n",
       "100  now, with regard to ehm ehm ehm ehm, protectio...        60   \n",
       "\n",
       "     words per second  meeting identifier  \\\n",
       "10           2.400000            20140714   \n",
       "11           1.882353            20140714   \n",
       "12           1.600000            20140714   \n",
       "13           1.736842            20140714   \n",
       "14           1.666667            20140714   \n",
       "..                ...                 ...   \n",
       "96           2.680000            20141120   \n",
       "97           2.375000            20141120   \n",
       "98           2.681818            20141120   \n",
       "99           3.294118            20141120   \n",
       "100          2.068966            20141211   \n",
       "\n",
       "                                              hotwords  \\\n",
       "10   juri|fundamental|femm|reicherts|ms|chairs|weis...   \n",
       "11   juri|fundamental|femm|reicherts|ms|chairs|weis...   \n",
       "12   juri|fundamental|femm|reicherts|ms|chairs|weis...   \n",
       "13   juri|fundamental|femm|reicherts|ms|chairs|weis...   \n",
       "14   juri|fundamental|femm|reicherts|ms|chairs|weis...   \n",
       "..                                                 ...   \n",
       "96   nathalie|paevakorra|pirmininko|bueso|europol|n...   \n",
       "97   nathalie|paevakorra|pirmininko|bueso|europol|n...   \n",
       "98   nathalie|paevakorra|pirmininko|bueso|europol|n...   \n",
       "99   nathalie|paevakorra|pirmininko|bueso|europol|n...   \n",
       "100  paevakorra|ska|carlos|leichtfried|europol|pirm...   \n",
       "\n",
       "                                             inference  \\\n",
       "10   mr president a vi i a member of the freedom pa...   \n",
       "11   ok thank you for putting your objection so pol...   \n",
       "12   i would also i would also like to agree the me...   \n",
       "13   i would like to stress that the cooperation be...   \n",
       "14   that overlap with the field of responsibility ...   \n",
       "..                                                 ...   \n",
       "96   the commissions commitment to putting an indep...   \n",
       "97   it has to be immune from european and national...   \n",
       "98   therefore the appointment procedure for them m...   \n",
       "99   it is important to recall that at the local le...   \n",
       "100  with regard to protection of private data the ...   \n",
       "\n",
       "                               manual_entities  hotwords_in_inference  \\\n",
       "10                               freedom|party                      2   \n",
       "11                                    slobodan                      0   \n",
       "12                 libe|martine|juri|reicherts                      2   \n",
       "13                                         NaN                      1   \n",
       "14                                        juri                      0   \n",
       "..                                         ...                    ...   \n",
       "96   office|junker|public|prosecutors|european                      4   \n",
       "97                   prosecutors|european|eppo                      2   \n",
       "98                         parliament|european                      2   \n",
       "99                                        eppo                      0   \n",
       "100     united|europe|states|us|union|european                      6   \n",
       "\n",
       "     hotwords_not_in_inference    recall unrecognized_words  \\\n",
       "10                           0  1.000000                NaN   \n",
       "11                           1  0.000000           slobodan   \n",
       "12                           2  0.500000     juri|reicherts   \n",
       "13                           0  1.000000                NaN   \n",
       "14                           1  0.000000               juri   \n",
       "..                         ...       ...                ...   \n",
       "96                           1  0.800000             junker   \n",
       "97                           1  0.666667               eppo   \n",
       "98                           0  1.000000                NaN   \n",
       "99                           1  0.000000               eppo   \n",
       "100                          0  1.000000                NaN   \n",
       "\n",
       "     false_positive_hotwords  precision       WER        F1  \n",
       "10                         0        1.0  0.305556  1.000000  \n",
       "11                         0        NaN  0.375000       NaN  \n",
       "12                         0        1.0  0.343750  0.666667  \n",
       "13                         0        1.0  0.090909  1.000000  \n",
       "14                         0        NaN  0.120000       NaN  \n",
       "..                       ...        ...       ...       ...  \n",
       "96                         0        1.0  0.179104  0.888889  \n",
       "97                         0        1.0  0.157895  0.800000  \n",
       "98                         0        1.0  0.135593  1.000000  \n",
       "99                         0        NaN  0.181818       NaN  \n",
       "100                        0        1.0  0.233333  1.000000  \n",
       "\n",
       "[91 rows x 17 columns]"
      ]
     },
     "execution_count": 15,
     "metadata": {},
     "output_type": "execute_result"
    }
   ],
   "source": [
    "dfs[0]"
   ]
  },
  {
   "cell_type": "code",
   "execution_count": 16,
   "metadata": {},
   "outputs": [
    {
     "data": {
      "text/plain": [
       "10     20140714\n",
       "11     20140714\n",
       "12     20140714\n",
       "13     20140714\n",
       "14     20140714\n",
       "         ...   \n",
       "96     20141120\n",
       "97     20141120\n",
       "98     20141120\n",
       "99     20141120\n",
       "100    20141211\n",
       "Name: meeting identifier, Length: 91, dtype: int64"
      ]
     },
     "execution_count": 16,
     "metadata": {},
     "output_type": "execute_result"
    }
   ],
   "source": [
    "dfs[0].columns\n",
    "dfs[0]['meeting identifier']"
   ]
  },
  {
   "cell_type": "code",
   "execution_count": 17,
   "metadata": {},
   "outputs": [],
   "source": [
    "def meeting_id_to_fold(df):\n",
    "    identifiers = df['meeting identifier']\n",
    "    identifiers = set(identifiers)\n",
    "    id_to_fold = {identifier: i for i, identifier in enumerate(identifiers)}\n",
    "    try:\n",
    "        del id_to_fold[20141211]\n",
    "    except KeyError:\n",
    "        pass\n",
    "    return id_to_fold\n",
    "    \n",
    "fold_index = meeting_id_to_fold(dfs[0])\n"
   ]
  },
  {
   "cell_type": "code",
   "execution_count": 18,
   "metadata": {},
   "outputs": [],
   "source": [
    "def get_fold(row):\n",
    "    identifier = row['meeting identifier']\n",
    "#     print(identifier)\n",
    "    try:\n",
    "        return fold_index[identifier]\n",
    "    except KeyError:\n",
    "        return pd.NA\n",
    "\n",
    "for df in dfs:\n",
    "    df['fold'] = df.apply(get_fold, axis=1)"
   ]
  },
  {
   "cell_type": "code",
   "execution_count": null,
   "metadata": {},
   "outputs": [],
   "source": []
  },
  {
   "cell_type": "code",
   "execution_count": null,
   "metadata": {},
   "outputs": [],
   "source": []
  },
  {
   "cell_type": "code",
   "execution_count": 19,
   "metadata": {},
   "outputs": [],
   "source": [
    "def get_false_negatives(row):\n",
    "    hotwords_list = row.hotwords.split('|')\n",
    "    inference  = str(row.inference)\n",
    "    reference = str(row.Transcription).lower()\n",
    "    \n",
    "    try:\n",
    "        manual_entities = row.manual_entities.split('|')\n",
    "    except AttributeError:\n",
    "        manual_entities = []\n",
    "    \n",
    "    false_negatives = []\n",
    "    \n",
    "    for entity in manual_entities:\n",
    "        if entity not in inference:\n",
    "            # print(entity)\n",
    "            false_negatives.append(entity)\n",
    "    \n",
    "    \n",
    "#     print(false_negatives)\n",
    "    return false_negatives\n",
    "    \n",
    "\n",
    "def get_false_positives(row):\n",
    "    hotwords_list = row.hotwords.split('|')\n",
    "    inference  = str(row.inference)\n",
    "    reference = str(row.Transcription).lower()\n",
    "\n",
    "    false_positives = []\n",
    "    \n",
    "    for word in hotwords_list:\n",
    "        if word in inference and not word in reference:\n",
    "            false_positives.append(word)\n",
    "\n",
    "#     print(false_positives)\n",
    "\n",
    "    return false_positives\n",
    "\n",
    "def get_true_positives(row):\n",
    "\n",
    "    try:\n",
    "        manual_entities = row.manual_entities.split('|')\n",
    "    except AttributeError:\n",
    "        manual_entities = []\n",
    "        \n",
    "    hotwords_list = row.hotwords.split('|')\n",
    "\n",
    "    \n",
    "    inference = str(row.inference)\n",
    "    \n",
    "    hotwords_in_inference_count = 0\n",
    "    hotwords_in_inference = []\n",
    "    for entity in manual_entities:\n",
    "#         if entity in inference and entity in hotwords_list:\n",
    "        if entity in inference:\n",
    "            hotwords_in_inference.append(entity)\n",
    "\n",
    "    return hotwords_in_inference\n",
    "\n",
    "def get_true_positives_count(row):\n",
    "    return len(row['true_positives_words'])\n",
    "    "
   ]
  },
  {
   "cell_type": "code",
   "execution_count": 20,
   "metadata": {},
   "outputs": [],
   "source": [
    "def per_meeting_results(results_df):\n",
    "    my_pivot_table = pd.pivot_table(results_df, index = 'meeting identifier', values = ['true_positives_count', 'false_positives_count', 'false_negatives_count'], aggfunc = np.sum)\n",
    "    \n",
    "    my_pivot_table['precision'] = my_pivot_table.true_positives_count/(my_pivot_table.true_positives_count + my_pivot_table.false_positives_count)\n",
    "    my_pivot_table['recall']    = my_pivot_table.true_positives_count/(my_pivot_table.true_positives_count + my_pivot_table.false_negatives_count)\n",
    "    my_pivot_table['F1']  = 2 * my_pivot_table.precision * my_pivot_table.recall / (my_pivot_table.precision + my_pivot_table.recall)\n",
    "    \n",
    "    return my_pivot_table\n",
    "    \n",
    "    "
   ]
  },
  {
   "cell_type": "code",
   "execution_count": 21,
   "metadata": {},
   "outputs": [],
   "source": [
    "def repair_wer(wer):\n",
    "    if wer > 1:\n",
    "        return wer/100\n",
    "    else:\n",
    "        return wer"
   ]
  },
  {
   "cell_type": "code",
   "execution_count": 22,
   "metadata": {},
   "outputs": [],
   "source": [
    "def save_results_pivot(results_pivot, fold, weight, folder = 'results_pivot_tables'):\n",
    "    outfile_name = f'WEIGHT_{weight}_FOLD_{fold}.csv'\n",
    "    outpath = os.path.join(folder, outfile_name)\n",
    "    outfolder = os.path.split(outpath)[0]\n",
    "    \n",
    "    if not os.path.exists(outfolder):\n",
    "        os.makedirs(outfolder)\n",
    "    \n",
    "    results_pivot.to_csv(outpath, sep='\\t')\n",
    "    print(f\"results pivot saved to: {outpath}\")"
   ]
  },
  {
   "cell_type": "code",
   "execution_count": 23,
   "metadata": {},
   "outputs": [],
   "source": [
    "from matplotlib import pyplot as plt\n",
    "\n",
    "def make_plot(precisions, recalls, Fscores, WERS, fold, folder='fold_plots'):\n",
    "    \n",
    "    plotfile = f\"FOLD_{fold}_plot.png\"\n",
    "    plotpath = os.path.join(folder, plotfile)\n",
    "    plotfolder = os.path.split(plotpath)[0]\n",
    "    if not os.path.exists(plotfolder):\n",
    "        os.makedirs(plotfolder)\n",
    "    \n",
    "    \n",
    "    \n",
    "    x = [weight for weight in range(len(precisions))]\n",
    "    \n",
    "    plt.figure(figsize=(width,height))\n",
    "    \n",
    "    plt.plot(x, precisions, label='precision')\n",
    "    plt.plot(x, recalls, label = 'recall')\n",
    "    plt.plot(x, Fscores, label = 'F1')\n",
    "    \n",
    "    plt.legend()\n",
    "    \n",
    "    xstr = [str(item) for item in x]\n",
    "    plt.xticks = xstr\n",
    "    \n",
    "    plt.title(f\"Fold {fold}\")\n",
    "    \n",
    "    plt.ylim(0,1)\n",
    "    \n",
    "    plt.grid()\n",
    "    plt.savefig(plotpath)\n",
    "    plt.show()\n",
    "    \n",
    "    print(f\"plot saved as {plotpath}\")\n",
    "    "
   ]
  },
  {
   "cell_type": "code",
   "execution_count": 24,
   "metadata": {},
   "outputs": [],
   "source": [
    "def optimize_train_data(fold, train_dfs):\n",
    "    \n",
    "    results_pivot_tables = []\n",
    "    macro_average_precisions = []\n",
    "    macro_average_recalls = []\n",
    "    Fscores = []\n",
    "    WERS = []\n",
    "    \n",
    "    for weight, train_df in enumerate(train_dfs):\n",
    "        results_df = train_df.copy()\n",
    "        true_positives_words = results_df.apply(get_true_positives, axis=1)\n",
    "        results_df['true_positives_words'] = true_positives_words\n",
    "        results_df['true_positives_count'] = results_df.apply(get_true_positives_count, axis = 1)\n",
    "        \n",
    "        results_df['false_positives_words'] = results_df.apply(get_false_positives, axis=1)\n",
    "        results_df['false_positives_count'] = results_df.false_positives_words.apply(lambda x:len(x))\n",
    "        \n",
    "        results_df['false_negatives_words'] = results_df.apply(get_false_negatives, axis=1)\n",
    "        results_df['false_negatives_count'] = results_df.false_negatives_words.apply(lambda x:len(x))\n",
    "        \n",
    "        results_pivot = per_meeting_results(results_df)\n",
    "        save_results_pivot(results_pivot, fold, weight)\n",
    "        results_pivot_tables.append(results_pivot)\n",
    "        \n",
    "        macro_average_precision = results_pivot.precision.mean()\n",
    "        macro_average_precisions.append(macro_average_precision)\n",
    "        \n",
    "        macro_average_recall = results_pivot.recall.mean()\n",
    "        macro_average_recalls.append(macro_average_recall)\n",
    "        \n",
    "        mean_fscore = results_pivot.F1.mean()\n",
    "        Fscores.append(mean_fscore)\n",
    "        \n",
    "        train_df['WER'] = train_df.WER.apply(repair_wer)\n",
    "        WERS.append(train_df.WER.mean())\n",
    "        if train_df.WER.mean() > 1:\n",
    "            train_df.WER\n",
    "            \n",
    "        \n",
    "        \n",
    "    make_plot(macro_average_precisions, macro_average_recalls, Fscores, WERS, fold)\n",
    "    \n",
    "    return macro_average_precisions, macro_average_recalls, Fscores, WERS\n",
    "#         input(train_df)\n",
    "        \n",
    "        "
   ]
  },
  {
   "cell_type": "code",
   "execution_count": null,
   "metadata": {},
   "outputs": [],
   "source": [
    "    "
   ]
  },
  {
   "cell_type": "code",
   "execution_count": 25,
   "metadata": {},
   "outputs": [],
   "source": [
    "def evaluate_on_test(test_dfs,fold, best_weight = 3):\n",
    "    for weight, test_df in enumerate(test_dfs):\n",
    "        if not weight == best_weight:\n",
    "            continue\n",
    "        \n",
    "        results_df = test_df.copy()\n",
    "        true_positives_words = results_df.apply(get_true_positives, axis=1)\n",
    "        results_df['true_positives_words'] = true_positives_words\n",
    "        results_df['true_positives_count'] = results_df.apply(get_true_positives_count, axis = 1)\n",
    "        \n",
    "        results_df['false_positives_words'] = results_df.apply(get_false_positives, axis=1)\n",
    "        results_df['false_positives_count'] = results_df.false_positives_words.apply(lambda x:len(x))\n",
    "        \n",
    "        results_df['false_negatives_words'] = results_df.apply(get_false_negatives, axis=1)\n",
    "        results_df['false_negatives_count'] = results_df.false_negatives_words.apply(lambda x:len(x))\n",
    "\n",
    "        test_pivot = per_meeting_results(results_df)\n",
    "        \n",
    "        test_precision = test_pivot.precision.values[0]\n",
    "        test_recall = test_pivot.recall.values[0]\n",
    "        test_F1 = test_pivot.recall.values[0]\n",
    "        \n",
    "        avg_wer = results_df.WER.mean()\n",
    "#         input(avg_wer)\n",
    "    return test_precision, test_recall, test_F1, avg_wer\n",
    "        "
   ]
  },
  {
   "cell_type": "code",
   "execution_count": 26,
   "metadata": {},
   "outputs": [],
   "source": [
    "def process_fold(fold, dfs):\n",
    "    train_dfs = []\n",
    "    test_dfs  = []\n",
    "    \n",
    "    for df in dfs:\n",
    "        test_data = df[df.fold == fold]\n",
    "        test_dfs.append(test_data)\n",
    "        \n",
    "        train_data = df[df.fold != fold]\n",
    "        train_dfs.append(train_data)\n",
    "    \n",
    "    macro_average_precisions, macro_average_recalls, Fscores, WERS = optimize_train_data(fold, train_dfs)\n",
    "    \n",
    "    test_precision, test_recall, test_F1, test_avg_wer = evaluate_on_test(test_dfs, fold)\n",
    "    \n",
    "    return macro_average_precisions, macro_average_recalls, Fscores, WERS, test_precision, test_recall, test_F1, test_avg_wer\n",
    "    \n",
    "    "
   ]
  },
  {
   "cell_type": "code",
   "execution_count": 27,
   "metadata": {},
   "outputs": [],
   "source": [
    "def plot_averages(precisions_np, recalls_np, Fscores_np, WERS_np):\n",
    "    precisions_mean = precisions_np.mean(axis=0)\n",
    "    precisions_stdev = precisions_np.std(axis=0)\n",
    "    precisions_min = precisions_mean - precisions_stdev\n",
    "    precisions_max = precisions_mean + precisions_stdev\n",
    "    \n",
    "    x = [i for i in range(len(precisions_mean))]\n",
    "    \n",
    "    plt.figure()\n",
    "    plt.fill_between(x, precisions_min, precisions_max, alpha=0.2)\n",
    "    plt.plot(x, precisions_mean, label='precision')\n",
    "    \n",
    "    recalls_mean = recalls_np.mean(axis=0)\n",
    "    recalls_stdev = recalls_np.std(axis=0)\n",
    "    recalls_min = recalls_mean - recalls_stdev\n",
    "    recalls_max = recalls_mean + recalls_stdev\n",
    "    \n",
    "    plt.fill_between(x, recalls_min, recalls_max, alpha=0.2)\n",
    "    plt.plot(x, recalls_mean, label='recall')\n",
    "    \n",
    "    Fscores_mean = Fscores_np.mean(axis=0)\n",
    "    Fscores_stdev = Fscores_np.std(axis=0)\n",
    "    Fscores_min = Fscores_mean - Fscores_stdev\n",
    "    Fscores_max = Fscores_mean + Fscores_stdev\n",
    "    \n",
    "    plt.fill_between(x, Fscores_min, Fscores_max, alpha=0.2)\n",
    "    plt.plot(x, Fscores_mean, label='F-score')\n",
    "    \n",
    "    plt.legend()\n",
    "    \n",
    "    plt.title(\"Tuning Results\")\n",
    "    plt.xlabel(\"Hotwords Weight\")\n",
    "    \n",
    "    plt.savefig(\"Tuning_overview.png\")\n",
    "    \n",
    "    plt.show()"
   ]
  },
  {
   "cell_type": "code",
   "execution_count": 28,
   "metadata": {},
   "outputs": [
    {
     "name": "stdout",
     "output_type": "stream",
     "text": [
      "{0, 1, 2, 3, 4, 5, 6, 7, 9, <NA>}\n",
      "FOLD: 0\n",
      "results pivot saved to: results_pivot_tables/WEIGHT_0_FOLD_0.csv\n",
      "results pivot saved to: results_pivot_tables/WEIGHT_1_FOLD_0.csv\n",
      "results pivot saved to: results_pivot_tables/WEIGHT_2_FOLD_0.csv\n"
     ]
    },
    {
     "name": "stderr",
     "output_type": "stream",
     "text": [
      "/home/hugo/anaconda3/lib/python3.7/site-packages/ipykernel_launcher.py:34: SettingWithCopyWarning: \n",
      "A value is trying to be set on a copy of a slice from a DataFrame.\n",
      "Try using .loc[row_indexer,col_indexer] = value instead\n",
      "\n",
      "See the caveats in the documentation: https://pandas.pydata.org/pandas-docs/stable/user_guide/indexing.html#returning-a-view-versus-a-copy\n"
     ]
    },
    {
     "name": "stdout",
     "output_type": "stream",
     "text": [
      "results pivot saved to: results_pivot_tables/WEIGHT_3_FOLD_0.csv\n",
      "results pivot saved to: results_pivot_tables/WEIGHT_4_FOLD_0.csv\n",
      "results pivot saved to: results_pivot_tables/WEIGHT_5_FOLD_0.csv\n",
      "results pivot saved to: results_pivot_tables/WEIGHT_6_FOLD_0.csv\n",
      "results pivot saved to: results_pivot_tables/WEIGHT_7_FOLD_0.csv\n",
      "results pivot saved to: results_pivot_tables/WEIGHT_8_FOLD_0.csv\n",
      "results pivot saved to: results_pivot_tables/WEIGHT_9_FOLD_0.csv\n",
      "results pivot saved to: results_pivot_tables/WEIGHT_10_FOLD_0.csv\n"
     ]
    },
    {
     "data": {
      "image/png": "[encoded data removed]",
      "text/plain": [
       "<Figure size 432x288 with 1 Axes>"
      ]
     },
     "metadata": {
      "needs_background": "light"
     },
     "output_type": "display_data"
    },
    {
     "name": "stdout",
     "output_type": "stream",
     "text": [
      "plot saved as fold_plots/FOLD_0_plot.png\n",
      "FOLD: 1\n",
      "results pivot saved to: results_pivot_tables/WEIGHT_0_FOLD_1.csv\n",
      "results pivot saved to: results_pivot_tables/WEIGHT_1_FOLD_1.csv\n",
      "results pivot saved to: results_pivot_tables/WEIGHT_2_FOLD_1.csv\n",
      "results pivot saved to: results_pivot_tables/WEIGHT_3_FOLD_1.csv\n",
      "results pivot saved to: results_pivot_tables/WEIGHT_4_FOLD_1.csv\n",
      "results pivot saved to: results_pivot_tables/WEIGHT_5_FOLD_1.csv\n",
      "results pivot saved to: results_pivot_tables/WEIGHT_6_FOLD_1.csv\n",
      "results pivot saved to: results_pivot_tables/WEIGHT_7_FOLD_1.csv\n",
      "results pivot saved to: results_pivot_tables/WEIGHT_8_FOLD_1.csv\n",
      "results pivot saved to: results_pivot_tables/WEIGHT_9_FOLD_1.csv\n",
      "results pivot saved to: results_pivot_tables/WEIGHT_10_FOLD_1.csv\n"
     ]
    },
    {
     "data": {
      "image/png": "[encoded data removed]",
      "text/plain": [
       "<Figure size 432x288 with 1 Axes>"
      ]
     },
     "metadata": {
      "needs_background": "light"
     },
     "output_type": "display_data"
    },
    {
     "name": "stdout",
     "output_type": "stream",
     "text": [
      "plot saved as fold_plots/FOLD_1_plot.png\n",
      "FOLD: 2\n",
      "results pivot saved to: results_pivot_tables/WEIGHT_0_FOLD_2.csv\n",
      "results pivot saved to: results_pivot_tables/WEIGHT_1_FOLD_2.csv\n",
      "results pivot saved to: results_pivot_tables/WEIGHT_2_FOLD_2.csv\n",
      "results pivot saved to: results_pivot_tables/WEIGHT_3_FOLD_2.csv\n",
      "results pivot saved to: results_pivot_tables/WEIGHT_4_FOLD_2.csv\n",
      "results pivot saved to: results_pivot_tables/WEIGHT_5_FOLD_2.csv\n",
      "results pivot saved to: results_pivot_tables/WEIGHT_6_FOLD_2.csv\n",
      "results pivot saved to: results_pivot_tables/WEIGHT_7_FOLD_2.csv\n",
      "results pivot saved to: results_pivot_tables/WEIGHT_8_FOLD_2.csv\n",
      "results pivot saved to: results_pivot_tables/WEIGHT_9_FOLD_2.csv\n",
      "results pivot saved to: results_pivot_tables/WEIGHT_10_FOLD_2.csv\n"
     ]
    },
    {
     "data": {
      "image/png": "[encoded data removed]",
      "text/plain": [
       "<Figure size 432x288 with 1 Axes>"
      ]
     },
     "metadata": {
      "needs_background": "light"
     },
     "output_type": "display_data"
    },
    {
     "name": "stdout",
     "output_type": "stream",
     "text": [
      "plot saved as fold_plots/FOLD_2_plot.png\n",
      "FOLD: 3\n",
      "results pivot saved to: results_pivot_tables/WEIGHT_0_FOLD_3.csv\n",
      "results pivot saved to: results_pivot_tables/WEIGHT_1_FOLD_3.csv\n",
      "results pivot saved to: results_pivot_tables/WEIGHT_2_FOLD_3.csv\n",
      "results pivot saved to: results_pivot_tables/WEIGHT_3_FOLD_3.csv\n",
      "results pivot saved to: results_pivot_tables/WEIGHT_4_FOLD_3.csv\n",
      "results pivot saved to: results_pivot_tables/WEIGHT_5_FOLD_3.csv\n",
      "results pivot saved to: results_pivot_tables/WEIGHT_6_FOLD_3.csv\n",
      "results pivot saved to: results_pivot_tables/WEIGHT_7_FOLD_3.csv\n",
      "results pivot saved to: results_pivot_tables/WEIGHT_8_FOLD_3.csv\n",
      "results pivot saved to: results_pivot_tables/WEIGHT_9_FOLD_3.csv\n",
      "results pivot saved to: results_pivot_tables/WEIGHT_10_FOLD_3.csv\n"
     ]
    },
    {
     "data": {
      "image/png": "[encoded data removed]",
      "text/plain": [
       "<Figure size 432x288 with 1 Axes>"
      ]
     },
     "metadata": {
      "needs_background": "light"
     },
     "output_type": "display_data"
    },
    {
     "name": "stdout",
     "output_type": "stream",
     "text": [
      "plot saved as fold_plots/FOLD_3_plot.png\n",
      "FOLD: 4\n",
      "results pivot saved to: results_pivot_tables/WEIGHT_0_FOLD_4.csv\n",
      "results pivot saved to: results_pivot_tables/WEIGHT_1_FOLD_4.csv\n",
      "results pivot saved to: results_pivot_tables/WEIGHT_2_FOLD_4.csv\n",
      "results pivot saved to: results_pivot_tables/WEIGHT_3_FOLD_4.csv\n",
      "results pivot saved to: results_pivot_tables/WEIGHT_4_FOLD_4.csv\n",
      "results pivot saved to: results_pivot_tables/WEIGHT_5_FOLD_4.csv\n",
      "results pivot saved to: results_pivot_tables/WEIGHT_6_FOLD_4.csv\n",
      "results pivot saved to: results_pivot_tables/WEIGHT_7_FOLD_4.csv\n",
      "results pivot saved to: results_pivot_tables/WEIGHT_8_FOLD_4.csv\n",
      "results pivot saved to: results_pivot_tables/WEIGHT_9_FOLD_4.csv\n",
      "results pivot saved to: results_pivot_tables/WEIGHT_10_FOLD_4.csv\n"
     ]
    },
    {
     "data": {
      "image/png": "[encoded data removed]",
      "text/plain": [
       "<Figure size 432x288 with 1 Axes>"
      ]
     },
     "metadata": {
      "needs_background": "light"
     },
     "output_type": "display_data"
    },
    {
     "name": "stdout",
     "output_type": "stream",
     "text": [
      "plot saved as fold_plots/FOLD_4_plot.png\n",
      "FOLD: 5\n",
      "results pivot saved to: results_pivot_tables/WEIGHT_0_FOLD_5.csv\n",
      "results pivot saved to: results_pivot_tables/WEIGHT_1_FOLD_5.csv\n",
      "results pivot saved to: results_pivot_tables/WEIGHT_2_FOLD_5.csv\n",
      "results pivot saved to: results_pivot_tables/WEIGHT_3_FOLD_5.csv\n",
      "results pivot saved to: results_pivot_tables/WEIGHT_4_FOLD_5.csv\n",
      "results pivot saved to: results_pivot_tables/WEIGHT_5_FOLD_5.csv\n",
      "results pivot saved to: results_pivot_tables/WEIGHT_6_FOLD_5.csv\n",
      "results pivot saved to: results_pivot_tables/WEIGHT_7_FOLD_5.csv\n",
      "results pivot saved to: results_pivot_tables/WEIGHT_8_FOLD_5.csv\n",
      "results pivot saved to: results_pivot_tables/WEIGHT_9_FOLD_5.csv\n",
      "results pivot saved to: results_pivot_tables/WEIGHT_10_FOLD_5.csv\n"
     ]
    },
    {
     "data": {
      "image/png": "[encoded data removed]",
      "text/plain": [
       "<Figure size 432x288 with 1 Axes>"
      ]
     },
     "metadata": {
      "needs_background": "light"
     },
     "output_type": "display_data"
    },
    {
     "name": "stdout",
     "output_type": "stream",
     "text": [
      "plot saved as fold_plots/FOLD_5_plot.png\n",
      "FOLD: 6\n",
      "results pivot saved to: results_pivot_tables/WEIGHT_0_FOLD_6.csv\n",
      "results pivot saved to: results_pivot_tables/WEIGHT_1_FOLD_6.csv\n",
      "results pivot saved to: results_pivot_tables/WEIGHT_2_FOLD_6.csv\n",
      "results pivot saved to: results_pivot_tables/WEIGHT_3_FOLD_6.csv\n",
      "results pivot saved to: results_pivot_tables/WEIGHT_4_FOLD_6.csv\n",
      "results pivot saved to: results_pivot_tables/WEIGHT_5_FOLD_6.csv\n",
      "results pivot saved to: results_pivot_tables/WEIGHT_6_FOLD_6.csv\n",
      "results pivot saved to: results_pivot_tables/WEIGHT_7_FOLD_6.csv\n",
      "results pivot saved to: results_pivot_tables/WEIGHT_8_FOLD_6.csv\n",
      "results pivot saved to: results_pivot_tables/WEIGHT_9_FOLD_6.csv\n",
      "results pivot saved to: results_pivot_tables/WEIGHT_10_FOLD_6.csv\n"
     ]
    },
    {
     "data": {
      "image/png": "[encoded data removed]",
      "text/plain": [
       "<Figure size 432x288 with 1 Axes>"
      ]
     },
     "metadata": {
      "needs_background": "light"
     },
     "output_type": "display_data"
    },
    {
     "name": "stdout",
     "output_type": "stream",
     "text": [
      "plot saved as fold_plots/FOLD_6_plot.png\n",
      "FOLD: 7\n",
      "results pivot saved to: results_pivot_tables/WEIGHT_0_FOLD_7.csv\n",
      "results pivot saved to: results_pivot_tables/WEIGHT_1_FOLD_7.csv\n",
      "results pivot saved to: results_pivot_tables/WEIGHT_2_FOLD_7.csv\n",
      "results pivot saved to: results_pivot_tables/WEIGHT_3_FOLD_7.csv\n",
      "results pivot saved to: results_pivot_tables/WEIGHT_4_FOLD_7.csv\n",
      "results pivot saved to: results_pivot_tables/WEIGHT_5_FOLD_7.csv\n",
      "results pivot saved to: results_pivot_tables/WEIGHT_6_FOLD_7.csv\n",
      "results pivot saved to: results_pivot_tables/WEIGHT_7_FOLD_7.csv\n",
      "results pivot saved to: results_pivot_tables/WEIGHT_8_FOLD_7.csv\n",
      "results pivot saved to: results_pivot_tables/WEIGHT_9_FOLD_7.csv\n",
      "results pivot saved to: results_pivot_tables/WEIGHT_10_FOLD_7.csv\n"
     ]
    },
    {
     "data": {
      "image/png": "[encoded data removed]",
      "text/plain": [
       "<Figure size 432x288 with 1 Axes>"
      ]
     },
     "metadata": {
      "needs_background": "light"
     },
     "output_type": "display_data"
    },
    {
     "name": "stdout",
     "output_type": "stream",
     "text": [
      "plot saved as fold_plots/FOLD_7_plot.png\n",
      "FOLD: 9\n",
      "results pivot saved to: results_pivot_tables/WEIGHT_0_FOLD_9.csv\n",
      "results pivot saved to: results_pivot_tables/WEIGHT_1_FOLD_9.csv\n",
      "results pivot saved to: results_pivot_tables/WEIGHT_2_FOLD_9.csv\n",
      "results pivot saved to: results_pivot_tables/WEIGHT_3_FOLD_9.csv\n",
      "results pivot saved to: results_pivot_tables/WEIGHT_4_FOLD_9.csv\n",
      "results pivot saved to: results_pivot_tables/WEIGHT_5_FOLD_9.csv\n",
      "results pivot saved to: results_pivot_tables/WEIGHT_6_FOLD_9.csv\n",
      "results pivot saved to: results_pivot_tables/WEIGHT_7_FOLD_9.csv\n",
      "results pivot saved to: results_pivot_tables/WEIGHT_8_FOLD_9.csv\n",
      "results pivot saved to: results_pivot_tables/WEIGHT_9_FOLD_9.csv\n",
      "results pivot saved to: results_pivot_tables/WEIGHT_10_FOLD_9.csv\n"
     ]
    },
    {
     "data": {
      "image/png": "[encoded data removed]",
      "text/plain": [
       "<Figure size 432x288 with 1 Axes>"
      ]
     },
     "metadata": {
      "needs_background": "light"
     },
     "output_type": "display_data"
    },
    {
     "name": "stdout",
     "output_type": "stream",
     "text": [
      "plot saved as fold_plots/FOLD_9_plot.png\n",
      "FOLD: <NA>\n"
     ]
    },
    {
     "data": {
      "image/png": "[encoded data removed]",
      "text/plain": [
       "<Figure size 432x288 with 1 Axes>"
      ]
     },
     "metadata": {
      "needs_background": "light"
     },
     "output_type": "display_data"
    },
    {
     "name": "stdout",
     "output_type": "stream",
     "text": [
      "Mean test precision: 0.5444387321580304 (0.19911043767786793)\n",
      "Mean test recall: 0.649647266313933 (0.2018788944972897)\n",
      "Mean test F1: 0.649647266313933 (0.2018788944972897)\n",
      "Man test WER: 4.411315666366124 (12.487938494615914)\n"
     ]
    }
   ],
   "source": [
    "import numpy as np\n",
    "from statistics import mean, stdev\n",
    "\n",
    "folds_unique = set(dfs[0].fold.values)\n",
    "print(folds_unique)\n",
    "\n",
    "all_macro_average_precisions = [] \n",
    "all_macro_average_recalls = [] \n",
    "all_Fscores = []\n",
    "all_WERS = []\n",
    "\n",
    "test_precisions = []\n",
    "test_recalls = []\n",
    "test_F1s = []\n",
    "test_WERS = []\n",
    "\n",
    "\n",
    "for fold in list(folds_unique):\n",
    "    print(f\"FOLD: {fold}\")\n",
    "    if fold is pd.NA:\n",
    "        continue\n",
    "    \n",
    "    macro_average_precisions, macro_average_recalls, Fscores, WERS, test_precision, test_recall, test_F1, test_avg_wer = process_fold(fold, dfs)\n",
    "    all_macro_average_precisions.append(macro_average_precisions)\n",
    "    all_macro_average_recalls.append(macro_average_recalls)\n",
    "    all_Fscores.append(Fscores)\n",
    "    all_WERS.append(WERS)\n",
    "    \n",
    "\n",
    "    test_precisions.append(test_precision)\n",
    "    test_recalls.append(test_recall)\n",
    "    test_F1s.append(test_F1)\n",
    "    test_WERS.append(test_avg_wer)\n",
    "    \n",
    "precisions_np = np.array(all_macro_average_precisions)\n",
    "recalls_np = np.array(all_macro_average_recalls)\n",
    "Fscores_np = np.array(all_Fscores)\n",
    "WERS_np = np.array(all_WERS)\n",
    "\n",
    "plot_averages(precisions_np, recalls_np, Fscores_np, WERS_np)\n",
    "\n",
    "\n",
    "print(f\"Mean test precision: {mean(test_precisions)} ({stdev(test_precisions)})\")\n",
    "print(f\"Mean test recall: {mean(test_recalls)} ({stdev(test_recalls)})\")\n",
    "print(f\"Mean test F1: {mean(test_F1s)} ({stdev(test_F1s)})\")\n",
    "print(f\"Man test WER: {mean(test_WERS)} ({stdev(test_WERS)})\")\n",
    "# print(precisions_mean)\n",
    "# input()"
   ]
  },
  {
   "cell_type": "code",
   "execution_count": 29,
   "metadata": {},
   "outputs": [
    {
     "name": "stdout",
     "output_type": "stream",
     "text": [
      "WEIGHT_0_FOLD_0.csv   WEIGHT_2_FOLD_6.csv  WEIGHT_6_FOLD_3.csv\r\n",
      "WEIGHT_0_FOLD_1.csv   WEIGHT_2_FOLD_7.csv  WEIGHT_6_FOLD_4.csv\r\n",
      "WEIGHT_0_FOLD_2.csv   WEIGHT_2_FOLD_9.csv  WEIGHT_6_FOLD_5.csv\r\n",
      "WEIGHT_0_FOLD_3.csv   WEIGHT_3_FOLD_0.csv  WEIGHT_6_FOLD_6.csv\r\n",
      "WEIGHT_0_FOLD_4.csv   WEIGHT_3_FOLD_1.csv  WEIGHT_6_FOLD_7.csv\r\n",
      "WEIGHT_0_FOLD_5.csv   WEIGHT_3_FOLD_2.csv  WEIGHT_6_FOLD_9.csv\r\n",
      "WEIGHT_0_FOLD_6.csv   WEIGHT_3_FOLD_3.csv  WEIGHT_7_FOLD_0.csv\r\n",
      "WEIGHT_0_FOLD_7.csv   WEIGHT_3_FOLD_4.csv  WEIGHT_7_FOLD_1.csv\r\n",
      "WEIGHT_0_FOLD_9.csv   WEIGHT_3_FOLD_5.csv  WEIGHT_7_FOLD_2.csv\r\n",
      "WEIGHT_10_FOLD_0.csv  WEIGHT_3_FOLD_6.csv  WEIGHT_7_FOLD_3.csv\r\n",
      "WEIGHT_10_FOLD_1.csv  WEIGHT_3_FOLD_7.csv  WEIGHT_7_FOLD_4.csv\r\n",
      "WEIGHT_10_FOLD_2.csv  WEIGHT_3_FOLD_9.csv  WEIGHT_7_FOLD_5.csv\r\n",
      "WEIGHT_10_FOLD_3.csv  WEIGHT_4_FOLD_0.csv  WEIGHT_7_FOLD_6.csv\r\n",
      "WEIGHT_10_FOLD_4.csv  WEIGHT_4_FOLD_1.csv  WEIGHT_7_FOLD_7.csv\r\n",
      "WEIGHT_10_FOLD_5.csv  WEIGHT_4_FOLD_2.csv  WEIGHT_7_FOLD_9.csv\r\n",
      "WEIGHT_10_FOLD_6.csv  WEIGHT_4_FOLD_3.csv  WEIGHT_8_FOLD_0.csv\r\n",
      "WEIGHT_10_FOLD_7.csv  WEIGHT_4_FOLD_4.csv  WEIGHT_8_FOLD_1.csv\r\n",
      "WEIGHT_10_FOLD_9.csv  WEIGHT_4_FOLD_5.csv  WEIGHT_8_FOLD_2.csv\r\n",
      "WEIGHT_1_FOLD_0.csv   WEIGHT_4_FOLD_6.csv  WEIGHT_8_FOLD_3.csv\r\n",
      "WEIGHT_1_FOLD_1.csv   WEIGHT_4_FOLD_7.csv  WEIGHT_8_FOLD_4.csv\r\n",
      "WEIGHT_1_FOLD_2.csv   WEIGHT_4_FOLD_9.csv  WEIGHT_8_FOLD_5.csv\r\n",
      "WEIGHT_1_FOLD_3.csv   WEIGHT_5_FOLD_0.csv  WEIGHT_8_FOLD_6.csv\r\n",
      "WEIGHT_1_FOLD_4.csv   WEIGHT_5_FOLD_1.csv  WEIGHT_8_FOLD_7.csv\r\n",
      "WEIGHT_1_FOLD_5.csv   WEIGHT_5_FOLD_2.csv  WEIGHT_8_FOLD_9.csv\r\n",
      "WEIGHT_1_FOLD_6.csv   WEIGHT_5_FOLD_3.csv  WEIGHT_9_FOLD_0.csv\r\n",
      "WEIGHT_1_FOLD_7.csv   WEIGHT_5_FOLD_4.csv  WEIGHT_9_FOLD_1.csv\r\n",
      "WEIGHT_1_FOLD_9.csv   WEIGHT_5_FOLD_5.csv  WEIGHT_9_FOLD_2.csv\r\n",
      "WEIGHT_2_FOLD_0.csv   WEIGHT_5_FOLD_6.csv  WEIGHT_9_FOLD_3.csv\r\n",
      "WEIGHT_2_FOLD_1.csv   WEIGHT_5_FOLD_7.csv  WEIGHT_9_FOLD_4.csv\r\n",
      "WEIGHT_2_FOLD_2.csv   WEIGHT_5_FOLD_9.csv  WEIGHT_9_FOLD_5.csv\r\n",
      "WEIGHT_2_FOLD_3.csv   WEIGHT_6_FOLD_0.csv  WEIGHT_9_FOLD_6.csv\r\n",
      "WEIGHT_2_FOLD_4.csv   WEIGHT_6_FOLD_1.csv  WEIGHT_9_FOLD_7.csv\r\n",
      "WEIGHT_2_FOLD_5.csv   WEIGHT_6_FOLD_2.csv  WEIGHT_9_FOLD_9.csv\r\n"
     ]
    }
   ],
   "source": [
    "!ls results_pivot_tables"
   ]
  },
  {
   "cell_type": "code",
   "execution_count": 39,
   "metadata": {},
   "outputs": [
    {
     "data": {
      "text/plain": [
       "[('results_pivot_tables/WEIGHT_0_FOLD_0.csv', 0),\n",
       " ('results_pivot_tables/WEIGHT_1_FOLD_0.csv', 1),\n",
       " ('results_pivot_tables/WEIGHT_2_FOLD_0.csv', 2),\n",
       " ('results_pivot_tables/WEIGHT_3_FOLD_0.csv', 3),\n",
       " ('results_pivot_tables/WEIGHT_4_FOLD_0.csv', 4),\n",
       " ('results_pivot_tables/WEIGHT_5_FOLD_0.csv', 5),\n",
       " ('results_pivot_tables/WEIGHT_6_FOLD_0.csv', 6),\n",
       " ('results_pivot_tables/WEIGHT_7_FOLD_0.csv', 7),\n",
       " ('results_pivot_tables/WEIGHT_8_FOLD_0.csv', 8),\n",
       " ('results_pivot_tables/WEIGHT_9_FOLD_0.csv', 9),\n",
       " ('results_pivot_tables/WEIGHT_10_FOLD_0.csv', 10)]"
      ]
     },
     "execution_count": 39,
     "metadata": {},
     "output_type": "execute_result"
    }
   ],
   "source": [
    "all_files = []\n",
    "\n",
    "for root, dirs, files in os.walk(\"results_pivot_tables\"):\n",
    "    \n",
    "    for file in files:\n",
    "        if not file.endswith('.csv'):\n",
    "            continue\n",
    "        if not (\"FOLD_0\") in file:\n",
    "            continue\n",
    "        \n",
    "        weight = int(file.split('_')[1])\n",
    "        \n",
    "        path = os.path.join(root, file)\n",
    "        \n",
    "        all_files.append((path,weight))\n",
    "all_files.sort(key=lambda x:x[1])\n",
    "\n",
    "\n"
   ]
  },
  {
   "cell_type": "code",
   "execution_count": null,
   "metadata": {},
   "outputs": [],
   "source": []
  },
  {
   "cell_type": "code",
   "execution_count": null,
   "metadata": {},
   "outputs": [],
   "source": []
  }
 ],
 "metadata": {
  "@webio": {
   "lastCommId": null,
   "lastKernelId": null
  },
  "interpreter": {
   "hash": "ceb7c84defe14735771fc989acb44406ad8556da0c7502a123060b6658c1a8a8"
  },
  "kernelspec": {
   "display_name": "Python 3",
   "language": "python",
   "name": "python3"
  },
  "language_info": {
   "codemirror_mode": {
    "name": "ipython",
    "version": 3
   },
   "file_extension": ".py",
   "mimetype": "text/x-python",
   "name": "python",
   "nbconvert_exporter": "python",
   "pygments_lexer": "ipython3",
   "version": "3.7.3"
  }
 },
 "nbformat": 4,
 "nbformat_minor": 2
}
