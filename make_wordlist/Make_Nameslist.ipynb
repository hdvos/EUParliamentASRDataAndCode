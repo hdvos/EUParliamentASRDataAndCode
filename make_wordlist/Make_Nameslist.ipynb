{
 "cells": [
  {
   "cell_type": "code",
   "execution_count": 1,
   "metadata": {},
   "outputs": [
    {
     "name": "stdout",
     "output_type": "stream",
     "text": [
      "Make_Nameslist.ipynb  names_and_name_parts.txt\r\n",
      "MEP_db.csv            names_permutations_3.txt\r\n"
     ]
    }
   ],
   "source": [
    "ls"
   ]
  },
  {
   "cell_type": "code",
   "execution_count": 3,
   "metadata": {},
   "outputs": [
    {
     "data": {
      "application/vnd.jupyter.widget-view+json": {
       "model_id": "8ecc99a708f44fb8b8d9c06de7094774",
       "version_major": 2,
       "version_minor": 0
      },
      "text/plain": [
       "HBox(children=(IntProgress(value=0, max=8000), HTML(value='')))"
      ]
     },
     "metadata": {},
     "output_type": "display_data"
    },
    {
     "name": "stdout",
     "output_type": "stream",
     "text": [
      "\n"
     ]
    }
   ],
   "source": [
    "from csv import DictReader\n",
    "from tqdm import tqdm_notebook\n",
    "names = set()\n",
    "\n",
    "with open(\"MEP_db.csv\", 'rt') as f:\n",
    "    rdr = DictReader(f)\n",
    "    for line in tqdm_notebook(rdr, total = 8000):\n",
    "#         input(line)\n",
    "        name = line['MEP_name']\n",
    "        \n",
    "        start_date = line['start_date']\n",
    "        if not start_date == '':\n",
    "            try:\n",
    "                start_year = int(start_date[:4])\n",
    "            except:\n",
    "                start_year = 0\n",
    "        else:\n",
    "            start_year = 0\n",
    "        \n",
    "        end_date = line['end_date']\n",
    "        if not end_date == '':\n",
    "            try:\n",
    "                end_year = int(end_date[:4])\n",
    "            except:\n",
    "                end_year = 0\n",
    "        else:\n",
    "            end_year = 0\n",
    "        \n",
    "        if (2014 <= start_year <= 2018) or (2015 <= end_year <= 2019):\n",
    "#             print(name, start_date, end_date)\n",
    "            names.add(name)\n",
    "names = list(names)        "
   ]
  },
  {
   "cell_type": "code",
   "execution_count": 4,
   "metadata": {},
   "outputs": [
    {
     "name": "stdout",
     "output_type": "stream",
     "text": [
      "864\n"
     ]
    }
   ],
   "source": [
    "print(len(names))"
   ]
  },
  {
   "cell_type": "code",
   "execution_count": 5,
   "metadata": {},
   "outputs": [
    {
     "name": "stdout",
     "output_type": "stream",
     "text": [
      "['Romana Tomc', 'Louis Ide', 'Ricardo Serrão Santos', 'Richard Sulík', 'Christos Stylianides', 'Syed Kamall', 'Giancarlo Scottà', 'Barbara Kappel', 'Ivan Štefanec', 'Dario Tamburrano']\n"
     ]
    }
   ],
   "source": [
    "print(names[:10])"
   ]
  },
  {
   "cell_type": "code",
   "execution_count": 7,
   "metadata": {},
   "outputs": [
    {
     "name": "stdout",
     "output_type": "stream",
     "text": [
      "1876\n"
     ]
    }
   ],
   "source": [
    "\n",
    "new_names = []\n",
    "\n",
    "for name in names:\n",
    "    name_split = name.split()\n",
    "    for name_part in name_split:\n",
    "        new_names.append(name_part)\n",
    "\n",
    "print(len(new_names))"
   ]
  },
  {
   "cell_type": "code",
   "execution_count": 9,
   "metadata": {},
   "outputs": [],
   "source": [
    "with open(\"single_names.txt\", 'wt') as out:\n",
    "    for name in new_names:\n",
    "#         input(name)\n",
    "        out.write(f\"{name}\\n\")"
   ]
  },
  {
   "cell_type": "code",
   "execution_count": null,
   "metadata": {},
   "outputs": [],
   "source": []
  }
 ],
 "metadata": {
  "kernelspec": {
   "display_name": "Python 3",
   "language": "python",
   "name": "python3"
  },
  "language_info": {
   "codemirror_mode": {
    "name": "ipython",
    "version": 3
   },
   "file_extension": ".py",
   "mimetype": "text/x-python",
   "name": "python",
   "nbconvert_exporter": "python",
   "pygments_lexer": "ipython3",
   "version": "3.7.3"
  }
 },
 "nbformat": 4,
 "nbformat_minor": 2
}
